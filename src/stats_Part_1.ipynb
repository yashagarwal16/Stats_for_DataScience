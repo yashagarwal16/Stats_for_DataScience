{
 "cells": [
  {
   "cell_type": "markdown",
   "id": "d9103dbe",
   "metadata": {},
   "source": [
    "## MEASURE OF CENTRAL TENDANCY\n",
    "1. MEAN \n",
    "2. MEDIAN\n",
    "3. MODE \n"
   ]
  },
  {
   "cell_type": "code",
   "execution_count": 1,
   "id": "2e7ef094",
   "metadata": {},
   "outputs": [],
   "source": [
    "ages=[23,24,32,45,23,24,54,34,45,56,67,34,100]\n"
   ]
  },
  {
   "cell_type": "code",
   "execution_count": null,
   "id": "c1ab5f4c",
   "metadata": {},
   "outputs": [],
   "source": [
    "import numpy as np \n",
    "print(np.mean(ages))"
   ]
  },
  {
   "cell_type": "code",
   "execution_count": null,
   "id": "f9e518ad",
   "metadata": {},
   "outputs": [],
   "source": [
    "print(np.median(ages))"
   ]
  },
  {
   "cell_type": "code",
   "execution_count": null,
   "id": "5c1b4aa2",
   "metadata": {},
   "outputs": [],
   "source": [
    "import statistics as st\n"
   ]
  },
  {
   "cell_type": "code",
   "execution_count": null,
   "id": "2a071e84",
   "metadata": {},
   "outputs": [],
   "source": [
    "\n",
    "print(\"Median age: \", st.median(ages))\n",
    "print(\"Mean age: \", st.mean(ages))\n",
    "print(\"Mode age: \", st.mode(ages))"
   ]
  },
  {
   "cell_type": "code",
   "execution_count": null,
   "id": "eef6a726",
   "metadata": {},
   "outputs": [],
   "source": [
    "import seaborn as sns"
   ]
  },
  {
   "cell_type": "code",
   "execution_count": null,
   "id": "95a780a5",
   "metadata": {},
   "outputs": [],
   "source": [
    "sns.boxplot(ages)"
   ]
  },
  {
   "cell_type": "markdown",
   "id": "7e62e5ed",
   "metadata": {},
   "source": [
    "## 5. NUMBER SUMMARY"
   ]
  },
  {
   "cell_type": "code",
   "execution_count": null,
   "id": "b3ef230e",
   "metadata": {},
   "outputs": [],
   "source": [
    "import numpy as np"
   ]
  },
  {
   "cell_type": "code",
   "execution_count": null,
   "id": "fa8b1161",
   "metadata": {},
   "outputs": [],
   "source": [
    "q1,q3 = np.percentile(ages,[25,75])"
   ]
  },
  {
   "cell_type": "code",
   "execution_count": null,
   "id": "3470cc58",
   "metadata": {},
   "outputs": [],
   "source": [
    "print(f\"q1 which is 25% is :: {q1} :: and q3 which is 75% is :: {q3} ::\")"
   ]
  },
  {
   "cell_type": "code",
   "execution_count": null,
   "id": "7a679b60",
   "metadata": {},
   "outputs": [],
   "source": [
    "IQR = q3 - q1"
   ]
  },
  {
   "cell_type": "code",
   "execution_count": null,
   "id": "422167c1",
   "metadata": {},
   "outputs": [],
   "source": [
    "## check outlier [lower bound and upper bound]\n",
    "lower_bound = q1 - 1.5 * (IQR)\n",
    "upper_bound = q3 + 1.5 * (IQR)\n",
    "\n",
    "print(f\"The lower bound is {lower_bound} and the upper bound is {upper_bound}\")"
   ]
  },
  {
   "cell_type": "code",
   "execution_count": null,
   "id": "681afcb5",
   "metadata": {},
   "outputs": [],
   "source": []
  },
  {
   "cell_type": "markdown",
   "id": "6c3578c1",
   "metadata": {},
   "source": [
    "## MEASURE OF DISPERSION\n",
    "1. VARIANCE\n",
    "2. STANDARD DEVIATION"
   ]
  },
  {
   "cell_type": "code",
   "execution_count": null,
   "id": "c518d924",
   "metadata": {},
   "outputs": [],
   "source": [
    "statistics.variance(ages)"
   ]
  },
  {
   "cell_type": "code",
   "execution_count": null,
   "id": "28dc1789",
   "metadata": {},
   "outputs": [],
   "source": [
    "np.var(ages,axis=0)"
   ]
  },
  {
   "cell_type": "code",
   "execution_count": null,
   "id": "9973eba2",
   "metadata": {},
   "outputs": [],
   "source": [
    "def variance(data):\n",
    "    n = len(data)\n",
    "    mean = sum(data) / n    ## find mean\n",
    "    deviations = [(x - mean) ** 2 for x in data]    ## Find variance\n",
    "    variance = sum(deviations) / n  ## if i use n-1 instead of n then it is sample variance if not then it is population variance\n",
    "    return variance"
   ]
  },
  {
   "cell_type": "code",
   "execution_count": null,
   "id": "4e88ec30",
   "metadata": {},
   "outputs": [],
   "source": [
    "variance(ages)"
   ]
  },
  {
   "cell_type": "code",
   "execution_count": null,
   "id": "7340229b",
   "metadata": {},
   "outputs": [],
   "source": [
    "def variance(data, ddof=0):\n",
    "    n = len(data)\n",
    "    ##Mean of the data\n",
    "    mean = sum(data) / n\n",
    "    ##Variance of the data\n",
    "    deviations = [(x - mean) ** 2 for x in data]\n",
    "    variance =sum(deviations) / (n-1)\n",
    "    return variance"
   ]
  },
  {
   "cell_type": "code",
   "execution_count": null,
   "id": "b32578c6",
   "metadata": {},
   "outputs": [],
   "source": [
    "variance(ages,ddof=1)"
   ]
  },
  {
   "cell_type": "code",
   "execution_count": null,
   "id": "c7e4a783",
   "metadata": {},
   "outputs": [],
   "source": [
    "statistics.pvariance(ages)   ## population variance"
   ]
  },
  {
   "cell_type": "code",
   "execution_count": null,
   "id": "a958c6c8",
   "metadata": {},
   "outputs": [],
   "source": [
    "import math"
   ]
  },
  {
   "cell_type": "code",
   "execution_count": null,
   "id": "9f9de7d7",
   "metadata": {},
   "outputs": [],
   "source": [
    "math.sqrt(statistics.pvariance(ages))"
   ]
  },
  {
   "cell_type": "markdown",
   "id": "b7793780",
   "metadata": {},
   "source": [
    "## HISTOGRAM AND PDF"
   ]
  },
  {
   "cell_type": "code",
   "execution_count": 2,
   "id": "fe210f0f",
   "metadata": {},
   "outputs": [
    {
     "ename": "NameError",
     "evalue": "name 'ages' is not defined",
     "output_type": "error",
     "traceback": [
      "\u001b[1;31m---------------------------------------------------------------------------\u001b[0m",
      "\u001b[1;31mNameError\u001b[0m                                 Traceback (most recent call last)",
      "Cell \u001b[1;32mIn[2], line 2\u001b[0m\n\u001b[0;32m      1\u001b[0m \u001b[38;5;28;01mimport\u001b[39;00m\u001b[38;5;250m \u001b[39m\u001b[38;5;21;01mseaborn\u001b[39;00m\u001b[38;5;250m \u001b[39m\u001b[38;5;28;01mas\u001b[39;00m\u001b[38;5;250m \u001b[39m\u001b[38;5;21;01msns\u001b[39;00m\n\u001b[1;32m----> 2\u001b[0m sns\u001b[38;5;241m.\u001b[39mhistplot(\u001b[43mages\u001b[49m,kde\u001b[38;5;241m=\u001b[39m\u001b[38;5;28;01mTrue\u001b[39;00m)  \u001b[38;5;66;03m## kde is for kernel density means it is a smooth curve of the histogram that shows the distribution of the data\u001b[39;00m\n",
      "\u001b[1;31mNameError\u001b[0m: name 'ages' is not defined"
     ]
    }
   ],
   "source": [
    "import seaborn as sns\n",
    "sns.histplot(ages,kde=True)  ## kde is for kernel density means it is a smooth curve of the histogram that shows the distribution of the data\n",
    "\n"
   ]
  },
  {
   "cell_type": "code",
   "execution_count": null,
   "id": "ef55e576",
   "metadata": {},
   "outputs": [
    {
     "ename": "ValueError",
     "evalue": "'{notebook/data/iris}.csv' is not one of the example datasets.",
     "output_type": "error",
     "traceback": [
      "\u001b[1;31m---------------------------------------------------------------------------\u001b[0m",
      "\u001b[1;31mValueError\u001b[0m                                Traceback (most recent call last)",
      "Cell \u001b[1;32mIn[3], line 1\u001b[0m\n\u001b[1;32m----> 1\u001b[0m df\u001b[38;5;241m=\u001b[39m\u001b[43msns\u001b[49m\u001b[38;5;241;43m.\u001b[39;49m\u001b[43mload_dataset\u001b[49m\u001b[43m(\u001b[49m\u001b[38;5;124;43m\"\u001b[39;49m\u001b[38;5;124;43m{\u001b[39;49m\u001b[38;5;124;43mnotebook/data/iris}.csv\u001b[39;49m\u001b[38;5;124;43m\"\u001b[39;49m\u001b[43m)\u001b[49m\n",
      "File \u001b[1;32mc:\\Users\\hp\\Desktop\\Outlier_Finding\\env\\lib\\site-packages\\seaborn\\utils.py:573\u001b[0m, in \u001b[0;36mload_dataset\u001b[1;34m(name, cache, data_home, **kws)\u001b[0m\n\u001b[0;32m    571\u001b[0m \u001b[38;5;28;01mif\u001b[39;00m \u001b[38;5;129;01mnot\u001b[39;00m os\u001b[38;5;241m.\u001b[39mpath\u001b[38;5;241m.\u001b[39mexists(cache_path):\n\u001b[0;32m    572\u001b[0m     \u001b[38;5;28;01mif\u001b[39;00m name \u001b[38;5;129;01mnot\u001b[39;00m \u001b[38;5;129;01min\u001b[39;00m get_dataset_names():\n\u001b[1;32m--> 573\u001b[0m         \u001b[38;5;28;01mraise\u001b[39;00m \u001b[38;5;167;01mValueError\u001b[39;00m(\u001b[38;5;124mf\u001b[39m\u001b[38;5;124m\"\u001b[39m\u001b[38;5;124m'\u001b[39m\u001b[38;5;132;01m{\u001b[39;00mname\u001b[38;5;132;01m}\u001b[39;00m\u001b[38;5;124m'\u001b[39m\u001b[38;5;124m is not one of the example datasets.\u001b[39m\u001b[38;5;124m\"\u001b[39m)\n\u001b[0;32m    574\u001b[0m     urlretrieve(url, cache_path)\n\u001b[0;32m    575\u001b[0m full_path \u001b[38;5;241m=\u001b[39m cache_path\n",
      "\u001b[1;31mValueError\u001b[0m: '{notebook/data/iris}.csv' is not one of the example datasets."
     ]
    }
   ],
   "source": [
    "df = sns.load_dataset(\"notebook\\data\\tips.csv\")"
   ]
  },
  {
   "cell_type": "code",
   "execution_count": null,
   "id": "8816eff8",
   "metadata": {},
   "outputs": [],
   "source": [
    "df.head()"
   ]
  },
  {
   "cell_type": "code",
   "execution_count": null,
   "id": "cf886360",
   "metadata": {},
   "outputs": [],
   "source": [
    "sns.histplot(df[\"sepal_length\"],kde=True)"
   ]
  },
  {
   "cell_type": "code",
   "execution_count": null,
   "id": "6987227b",
   "metadata": {},
   "outputs": [],
   "source": [
    "sns.histplot(df[\"sepal_width\"],kde=True)"
   ]
  },
  {
   "cell_type": "code",
   "execution_count": null,
   "id": "02666b71",
   "metadata": {},
   "outputs": [],
   "source": [
    "sns.histplot(df[\"petal_length\"],kde=True)"
   ]
  },
  {
   "cell_type": "code",
   "execution_count": null,
   "id": "9a628b71",
   "metadata": {},
   "outputs": [],
   "source": [
    "## creatw  a normal distribution data\n",
    "s= np.random.normal(0.5,0.2,1000)"
   ]
  },
  {
   "cell_type": "code",
   "execution_count": null,
   "id": "eb6a8707",
   "metadata": {},
   "outputs": [],
   "source": [
    "s"
   ]
  },
  {
   "cell_type": "code",
   "execution_count": null,
   "id": "e9debc38",
   "metadata": {},
   "outputs": [],
   "source": [
    "sns.histplot(s,kde=True)"
   ]
  },
  {
   "cell_type": "markdown",
   "id": "2d65511c",
   "metadata": {},
   "source": [
    "## OTHER DISTRIBUTION\n",
    "**LOG NORMAL DISTRIBUTION**"
   ]
  },
  {
   "cell_type": "markdown",
   "id": "bc8b5911",
   "metadata": {},
   "source": []
  },
  {
   "cell_type": "code",
   "execution_count": null,
   "id": "f1d27bb8",
   "metadata": {},
   "outputs": [],
   "source": [
    "mu, sigma = 3. ,1. # mean and standard deviation\n",
    "# Create a normal distribution\n",
    "s = np.random.lognormal(mu, sigma, 1000)"
   ]
  },
  {
   "cell_type": "code",
   "execution_count": null,
   "id": "fb7a84cc",
   "metadata": {},
   "outputs": [],
   "source": [
    "sns.histplot(s,kde=True)"
   ]
  },
  {
   "cell_type": "code",
   "execution_count": null,
   "id": "06a74f4f",
   "metadata": {},
   "outputs": [],
   "source": [
    "sns.histplot(np.log(s),kde=True)"
   ]
  },
  {
   "cell_type": "code",
   "execution_count": null,
   "id": "b22eb436",
   "metadata": {},
   "outputs": [],
   "source": []
  },
  {
   "cell_type": "markdown",
   "id": "48c61636",
   "metadata": {},
   "source": [
    "## CHECK WHETEHR THE DISTRIBUTION IS NORMAL DISTRIBUTON"
   ]
  },
  {
   "cell_type": "code",
   "execution_count": null,
   "id": "25fde75e",
   "metadata": {},
   "outputs": [],
   "source": [
    "## if you wnat to check whethet the feature is guassian or normal distribution\n",
    "## Q-Q plot\n",
    "import matplotlib.pyplot as plt\n",
    "from scipy import stats\n",
    "import pylab    \n",
    "def plot_data(sample):                                    ## plot the data and Q-Q plot of the data\n",
    "    plt.figure(figsize=(10, 6))                           ## create a figure with size 10x6 \n",
    "    plt.subplot(1, 2, 1)                                  ## create a subplot with 1 row and 2 columns\n",
    "    sns.histplot(sample)                                  ## plot the histogram\n",
    "    plt.subplot(1, 2, 2)                                  ## create a subplot with 1 row and 2 columns\n",
    "    stats.probplot(sample, dist=\"norm\", plot=pylab)       ## plot the Q-Q plot\n",
    "    plt.show()"
   ]
  },
  {
   "cell_type": "code",
   "execution_count": null,
   "id": "145ef926",
   "metadata": {},
   "outputs": [],
   "source": [
    "## create a normal distribution data\n",
    "s= np.random.normal(0.5,0.2,1000)\n",
    "plot_data(s)  ##  output give straight line that means it is normal distribution "
   ]
  },
  {
   "cell_type": "code",
   "execution_count": null,
   "id": "c7dd531e",
   "metadata": {},
   "outputs": [],
   "source": [
    "def plot_data_log(sample):                                    ## plot the data and Q-Q plot of the data\n",
    "    plt.figure(figsize=(10, 6))                           ## create a figure with size 10x6 \n",
    "    plt.subplot(1, 2, 1)                                  ## create a subplot with 1 row and 2 columns\n",
    "    sns.histplot(sample)                                  ## plot the histogram\n",
    "    plt.subplot(1, 2, 2)                                  ## create a subplot with 1 row and 2 columns\n",
    "    stats.probplot(np.log(sample), dist=\"norm\", plot=pylab)       ## plot the Q-Q plot\n",
    "    plt.show()"
   ]
  },
  {
   "cell_type": "code",
   "execution_count": null,
   "id": "4b10ed1e",
   "metadata": {},
   "outputs": [],
   "source": [
    "plot_data_log(s)"
   ]
  },
  {
   "cell_type": "code",
   "execution_count": null,
   "id": "4f47670d",
   "metadata": {},
   "outputs": [],
   "source": []
  },
  {
   "cell_type": "markdown",
   "id": "d6bee3ba",
   "metadata": {},
   "source": [
    "## PEARSON AND SPERMAN RANK CORRELATION COEFFICIENTS"
   ]
  },
  {
   "cell_type": "code",
   "execution_count": null,
   "id": "e0405da6",
   "metadata": {},
   "outputs": [],
   "source": [
    "df = sns.load_dataset(\"tips\")"
   ]
  },
  {
   "cell_type": "code",
   "execution_count": null,
   "id": "44a19c9c",
   "metadata": {},
   "outputs": [],
   "source": [
    "df.head()\n"
   ]
  },
  {
   "cell_type": "code",
   "execution_count": null,
   "id": "3feaed6a",
   "metadata": {},
   "outputs": [],
   "source": [
    "import pandas as pd"
   ]
  },
  {
   "cell_type": "code",
   "execution_count": null,
   "id": "8c0161aa",
   "metadata": {},
   "outputs": [],
   "source": [
    "df=df.drop(\"day\",axis=1).drop(\"sex\",axis=1).drop(\"time\",axis=1)"
   ]
  },
  {
   "cell_type": "code",
   "execution_count": null,
   "id": "a4a01e21",
   "metadata": {},
   "outputs": [],
   "source": [
    "df.corr()"
   ]
  },
  {
   "cell_type": "code",
   "execution_count": null,
   "id": "ae19278f",
   "metadata": {},
   "outputs": [],
   "source": [
    "sns.pairplot(df)"
   ]
  },
  {
   "cell_type": "code",
   "execution_count": null,
   "id": "e09e3849",
   "metadata": {},
   "outputs": [],
   "source": []
  }
 ],
 "metadata": {
  "kernelspec": {
   "display_name": "Python 3",
   "language": "python",
   "name": "python3"
  },
  "language_info": {
   "codemirror_mode": {
    "name": "ipython",
    "version": 3
   },
   "file_extension": ".py",
   "mimetype": "text/x-python",
   "name": "python",
   "nbconvert_exporter": "python",
   "pygments_lexer": "ipython3",
   "version": "3.10.17"
  }
 },
 "nbformat": 4,
 "nbformat_minor": 5
}
