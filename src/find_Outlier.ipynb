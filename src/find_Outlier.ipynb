{
 "cells": [
  {
   "cell_type": "code",
   "execution_count": 1,
   "id": "862aed13",
   "metadata": {},
   "outputs": [],
   "source": [
    "import numpy as np"
   ]
  },
  {
   "cell_type": "code",
   "execution_count": 2,
   "id": "0d5f533a",
   "metadata": {},
   "outputs": [],
   "source": [
    "import pandas as pd\n",
    "import matplotlib.pyplot as plt\n",
    "%matplotlib inline"
   ]
  },
  {
   "cell_type": "code",
   "execution_count": null,
   "id": "0210cb1b",
   "metadata": {},
   "outputs": [],
   "source": [
    "# define our dataset\n",
    "dataset = [1, 2, 3, 4, 5, 6, 7, 8, 9, 10,11,12,13,14,15,16,17,18,19,20,100,50,43,76,43,22,1,2,3,24]\n",
    "n_dataset = [180\t156\t9\t176\t163\t1827\t166\t171]\n"
   ]
  },
  {
   "cell_type": "code",
   "execution_count": 4,
   "id": "f44c7a2f",
   "metadata": {},
   "outputs": [
    {
     "data": {
      "text/plain": [
       "(array([13., 10.,  2.,  0.,  3.,  0.,  0.,  1.,  0.,  1.]),\n",
       " array([  1. ,  10.9,  20.8,  30.7,  40.6,  50.5,  60.4,  70.3,  80.2,\n",
       "         90.1, 100. ]),\n",
       " <BarContainer object of 10 artists>)"
      ]
     },
     "execution_count": 4,
     "metadata": {},
     "output_type": "execute_result"
    },
    {
     "data": {
      "image/png": "[encoded data removed]",
      "text/plain": [
       "<Figure size 640x480 with 1 Axes>"
      ]
     },
     "metadata": {},
     "output_type": "display_data"
    }
   ],
   "source": [
    "plt.hist(dataset)"
   ]
  },
  {
   "cell_type": "code",
   "execution_count": 5,
   "id": "59b9ff0b",
   "metadata": {},
   "outputs": [],
   "source": [
    "# Z - Score\n",
    "outliers = []\n",
    "def detect_outliers(data):\n",
    "    threshold =3  ### 3rd standard deviation\n",
    "    mean = np.mean(data)\n",
    "    std = np.std(data)\n",
    "\n",
    "    for i in data:  ### loop over the data for finding outliers\n",
    "        z_score = (i - mean)/std  ### z_score\n",
    "        if np.abs(z_score) > threshold: ### 3rd standard deviation\n",
    "            outliers.append(i)\n",
    "    return outliers\n"
   ]
  },
  {
   "cell_type": "code",
   "execution_count": 8,
   "id": "66ffa6b1",
   "metadata": {},
   "outputs": [
    {
     "data": {
      "text/plain": [
       "[100, 100, 100]"
      ]
     },
     "execution_count": 8,
     "metadata": {},
     "output_type": "execute_result"
    }
   ],
   "source": [
    "detect_outliers(dataset) ##  it find the outlier among the data which is 100"
   ]
  },
  {
   "cell_type": "code",
   "execution_count": 9,
   "id": "a3931ddb",
   "metadata": {},
   "outputs": [],
   "source": [
    "## IQR method for finding outliers\n",
    "'''\n",
    "1 step: sort the data\n",
    "2 step: find\\calculate the Q1(25%) and Q3(75%) \n",
    "3 step: calculate the IQR = Q3 - Q1\n",
    "4 step: find the lower and upper bounds for outliers\n",
    "\n",
    "lower bound = Q1 - 1.5 * IQR\n",
    "\n",
    "upper bound = Q3 + 1.5 * IQR\n",
    "\n",
    "5 step: identify the outliers\n",
    "'''\n",
    "\n",
    "## sort the dataset\n",
    "dataset = sorted(dataset)\n",
    "\n",
    "\n"
   ]
  },
  {
   "cell_type": "code",
   "execution_count": 10,
   "id": "a01b81d0",
   "metadata": {},
   "outputs": [
    {
     "data": {
      "text/plain": [
       "[1,\n",
       " 1,\n",
       " 2,\n",
       " 2,\n",
       " 3,\n",
       " 3,\n",
       " 4,\n",
       " 5,\n",
       " 6,\n",
       " 7,\n",
       " 8,\n",
       " 9,\n",
       " 10,\n",
       " 11,\n",
       " 12,\n",
       " 13,\n",
       " 14,\n",
       " 15,\n",
       " 16,\n",
       " 17,\n",
       " 18,\n",
       " 19,\n",
       " 20,\n",
       " 22,\n",
       " 24,\n",
       " 43,\n",
       " 43,\n",
       " 50,\n",
       " 76,\n",
       " 100]"
      ]
     },
     "execution_count": 10,
     "metadata": {},
     "output_type": "execute_result"
    }
   ],
   "source": [
    "dataset"
   ]
  },
  {
   "cell_type": "code",
   "execution_count": 14,
   "id": "a73ba143",
   "metadata": {},
   "outputs": [
    {
     "name": "stdout",
     "output_type": "stream",
     "text": [
      "q1 which is 25% is :: 5.25 :: and q3 which is 75% is :: 19.75 ::\n"
     ]
    }
   ],
   "source": [
    "q1,q3 = np.percentile(dataset,[25,75])\n",
    "print(f\"q1 which is 25% is :: {q1} :: and q3 which is 75% is :: {q3} ::\")"
   ]
  },
  {
   "cell_type": "code",
   "execution_count": 15,
   "id": "6374ebab",
   "metadata": {},
   "outputs": [
    {
     "name": "stdout",
     "output_type": "stream",
     "text": [
      "iqr is :: 14.5\n"
     ]
    }
   ],
   "source": [
    "iqr = q3 - q1\n",
    "print(f\"iqr is :: {iqr}\")"
   ]
  },
  {
   "cell_type": "code",
   "execution_count": 17,
   "id": "95da8fa0",
   "metadata": {},
   "outputs": [
    {
     "name": "stdout",
     "output_type": "stream",
     "text": [
      "lower bound is --> -16.5 <-- and upper bound is --> 41.5 <--\n"
     ]
    }
   ],
   "source": [
    "## find the lower and upper bounds for outliers\n",
    "\n",
    "Lower_bound = q1 - 1.5 * iqr\n",
    "Upper_bound = q3 + 1.5 * iqr\n",
    "print(f\"lower bound is --> {Lower_bound} <-- and upper bound is --> {Upper_bound} <--\")"
   ]
  },
  {
   "cell_type": "code",
   "execution_count": 18,
   "id": "c8e5e682",
   "metadata": {},
   "outputs": [
    {
     "name": "stdout",
     "output_type": "stream",
     "text": [
      "Outliers are --->>>> [43, 43, 50, 76, 100]  <<<---\n"
     ]
    }
   ],
   "source": [
    "## identify the outliers\n",
    "Outliers = []\n",
    "for i in dataset:\n",
    "    if i < Lower_bound or i > Upper_bound:\n",
    "        Outliers.append(i)\n",
    "print(f\"Outliers are --->>>> {Outliers}  <<<---\")"
   ]
  },
  {
   "cell_type": "code",
   "execution_count": 19,
   "id": "02f2a4ba",
   "metadata": {},
   "outputs": [],
   "source": [
    "## seen in visualization use seaborn\n",
    "\n",
    "import seaborn as sns"
   ]
  },
  {
   "cell_type": "code",
   "execution_count": 20,
   "id": "a17d2c0b",
   "metadata": {},
   "outputs": [
    {
     "data": {
      "text/plain": [
       "<Axes: >"
      ]
     },
     "execution_count": 20,
     "metadata": {},
     "output_type": "execute_result"
    },
    {
     "data": {
      "image/png": "[encoded data removed]",
      "text/plain": [
       "<Figure size 640x480 with 1 Axes>"
      ]
     },
     "metadata": {},
     "output_type": "display_data"
    }
   ],
   "source": [
    "sns.boxplot(dataset)"
   ]
  },
  {
   "cell_type": "code",
   "execution_count": null,
   "id": "90e7ea10",
   "metadata": {},
   "outputs": [],
   "source": []
  }
 ],
 "metadata": {
  "kernelspec": {
   "display_name": "Python 3",
   "language": "python",
   "name": "python3"
  },
  "language_info": {
   "codemirror_mode": {
    "name": "ipython",
    "version": 3
   },
   "file_extension": ".py",
   "mimetype": "text/x-python",
   "name": "python",
   "nbconvert_exporter": "python",
   "pygments_lexer": "ipython3",
   "version": "3.10.17"
  }
 },
 "nbformat": 4,
 "nbformat_minor": 5
}
